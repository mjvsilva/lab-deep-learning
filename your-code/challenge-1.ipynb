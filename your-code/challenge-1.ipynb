{
 "cells": [
  {
   "cell_type": "markdown",
   "metadata": {},
   "source": [
    "# Challenge 1 - Tic Tac Toe\n",
    "\n",
    "In this lab you will perform deep learning analysis on a dataset of playing [Tic Tac Toe](https://en.wikipedia.org/wiki/Tic-tac-toe).\n",
    "\n",
    "There are 9 grids in Tic Tac Toe that are coded as the following picture shows:\n",
    "\n",
    "![Tic Tac Toe Grids](tttboard.jpg)\n",
    "\n",
    "In the first 9 columns of the dataset you can find which marks (`x` or `o`) exist in the grids. If there is no mark in a certain grid, it is labeled as `b`. The last column is `class` which tells you whether Player X (who always moves first in Tic Tac Toe) wins in this configuration. Note that when `class` has the value `False`, it means either Player O wins the game or it ends up as a draw."
   ]
  },
  {
   "cell_type": "markdown",
   "metadata": {},
   "source": [
    "Follow the steps suggested below to conduct a neural network analysis using Tensorflow and Keras. You will build a deep learning model to predict whether Player X wins the game or not.\n",
    "\n",
    "## Step 1: Data Engineering\n",
    "\n",
    "This dataset is almost in the ready-to-use state so you do not need to worry about missing values and so on. Still, some simple data engineering is needed.\n",
    "\n",
    "1. Read `tic-tac-toe.csv` into a dataframe.\n",
    "1. Inspect the dataset. Determine if the dataset is reliable by eyeballing the data.\n",
    "1. Convert the categorical values to numeric in all columns.\n",
    "1. Separate the inputs and output.\n",
    "1. Normalize the input data."
   ]
  },
  {
   "cell_type": "code",
   "execution_count": 1,
   "metadata": {},
   "outputs": [
    {
     "name": "stdout",
     "output_type": "stream",
     "text": [
      "(958, 10)\n"
     ]
    },
    {
     "data": {
      "text/html": [
       "<div>\n",
       "<style scoped>\n",
       "    .dataframe tbody tr th:only-of-type {\n",
       "        vertical-align: middle;\n",
       "    }\n",
       "\n",
       "    .dataframe tbody tr th {\n",
       "        vertical-align: top;\n",
       "    }\n",
       "\n",
       "    .dataframe thead th {\n",
       "        text-align: right;\n",
       "    }\n",
       "</style>\n",
       "<table border=\"1\" class=\"dataframe\">\n",
       "  <thead>\n",
       "    <tr style=\"text-align: right;\">\n",
       "      <th></th>\n",
       "      <th>TL</th>\n",
       "      <th>TM</th>\n",
       "      <th>TR</th>\n",
       "      <th>ML</th>\n",
       "      <th>MM</th>\n",
       "      <th>MR</th>\n",
       "      <th>BL</th>\n",
       "      <th>BM</th>\n",
       "      <th>BR</th>\n",
       "      <th>class</th>\n",
       "    </tr>\n",
       "  </thead>\n",
       "  <tbody>\n",
       "    <tr>\n",
       "      <th>0</th>\n",
       "      <td>x</td>\n",
       "      <td>x</td>\n",
       "      <td>x</td>\n",
       "      <td>x</td>\n",
       "      <td>o</td>\n",
       "      <td>o</td>\n",
       "      <td>x</td>\n",
       "      <td>o</td>\n",
       "      <td>o</td>\n",
       "      <td>True</td>\n",
       "    </tr>\n",
       "    <tr>\n",
       "      <th>1</th>\n",
       "      <td>x</td>\n",
       "      <td>x</td>\n",
       "      <td>x</td>\n",
       "      <td>x</td>\n",
       "      <td>o</td>\n",
       "      <td>o</td>\n",
       "      <td>o</td>\n",
       "      <td>x</td>\n",
       "      <td>o</td>\n",
       "      <td>True</td>\n",
       "    </tr>\n",
       "    <tr>\n",
       "      <th>2</th>\n",
       "      <td>x</td>\n",
       "      <td>x</td>\n",
       "      <td>x</td>\n",
       "      <td>x</td>\n",
       "      <td>o</td>\n",
       "      <td>o</td>\n",
       "      <td>o</td>\n",
       "      <td>o</td>\n",
       "      <td>x</td>\n",
       "      <td>True</td>\n",
       "    </tr>\n",
       "    <tr>\n",
       "      <th>3</th>\n",
       "      <td>x</td>\n",
       "      <td>x</td>\n",
       "      <td>x</td>\n",
       "      <td>x</td>\n",
       "      <td>o</td>\n",
       "      <td>o</td>\n",
       "      <td>o</td>\n",
       "      <td>b</td>\n",
       "      <td>b</td>\n",
       "      <td>True</td>\n",
       "    </tr>\n",
       "    <tr>\n",
       "      <th>4</th>\n",
       "      <td>x</td>\n",
       "      <td>x</td>\n",
       "      <td>x</td>\n",
       "      <td>x</td>\n",
       "      <td>o</td>\n",
       "      <td>o</td>\n",
       "      <td>b</td>\n",
       "      <td>o</td>\n",
       "      <td>b</td>\n",
       "      <td>True</td>\n",
       "    </tr>\n",
       "  </tbody>\n",
       "</table>\n",
       "</div>"
      ],
      "text/plain": [
       "  TL TM TR ML MM MR BL BM BR  class\n",
       "0  x  x  x  x  o  o  x  o  o   True\n",
       "1  x  x  x  x  o  o  o  x  o   True\n",
       "2  x  x  x  x  o  o  o  o  x   True\n",
       "3  x  x  x  x  o  o  o  b  b   True\n",
       "4  x  x  x  x  o  o  b  o  b   True"
      ]
     },
     "execution_count": 1,
     "metadata": {},
     "output_type": "execute_result"
    }
   ],
   "source": [
    "# your code here\n",
    "import pandas as pd\n",
    "import numpy as np\n",
    "\n",
    "df = pd.read_csv(\"tic-tac-toe.csv\")\n",
    "print(df.shape)\n",
    "df.head()"
   ]
  },
  {
   "cell_type": "code",
   "execution_count": 2,
   "metadata": {},
   "outputs": [
    {
     "name": "stdout",
     "output_type": "stream",
     "text": [
      "x    418\n",
      "o    335\n",
      "b    205\n",
      "Name: TL, dtype: int64 \n",
      "\n",
      "x    378\n",
      "o    330\n",
      "b    250\n",
      "Name: TM, dtype: int64 \n",
      "\n",
      "x    418\n",
      "o    335\n",
      "b    205\n",
      "Name: TR, dtype: int64 \n",
      "\n",
      "x    378\n",
      "o    330\n",
      "b    250\n",
      "Name: ML, dtype: int64 \n",
      "\n",
      "x    458\n",
      "o    340\n",
      "b    160\n",
      "Name: MM, dtype: int64 \n",
      "\n",
      "x    378\n",
      "o    330\n",
      "b    250\n",
      "Name: MR, dtype: int64 \n",
      "\n",
      "x    418\n",
      "o    335\n",
      "b    205\n",
      "Name: BL, dtype: int64 \n",
      "\n",
      "x    378\n",
      "o    330\n",
      "b    250\n",
      "Name: BM, dtype: int64 \n",
      "\n",
      "x    418\n",
      "o    335\n",
      "b    205\n",
      "Name: BR, dtype: int64 \n",
      "\n",
      "True     626\n",
      "False    332\n",
      "Name: class, dtype: int64 \n",
      "\n"
     ]
    }
   ],
   "source": [
    "for col in df.columns:\n",
    "    print(df[col].value_counts(), \"\\n\")"
   ]
  },
  {
   "cell_type": "code",
   "execution_count": 3,
   "metadata": {},
   "outputs": [
    {
     "data": {
      "text/plain": [
       "TL       0\n",
       "TM       0\n",
       "TR       0\n",
       "ML       0\n",
       "MM       0\n",
       "MR       0\n",
       "BL       0\n",
       "BM       0\n",
       "BR       0\n",
       "class    0\n",
       "dtype: int64"
      ]
     },
     "execution_count": 3,
     "metadata": {},
     "output_type": "execute_result"
    }
   ],
   "source": [
    "df.isna().sum()"
   ]
  },
  {
   "cell_type": "code",
   "execution_count": 4,
   "metadata": {},
   "outputs": [],
   "source": [
    "df[\"class\"] = np.where(df[\"class\"], 1, 0)"
   ]
  },
  {
   "cell_type": "code",
   "execution_count": 5,
   "metadata": {},
   "outputs": [],
   "source": [
    "for col in df.columns:\n",
    "    if(col != \"class\"):\n",
    "        df[col] = np.where(df[col]==\"x\", 1,\n",
    "                           np.where(df[col]==\"o\", -1, 0))"
   ]
  },
  {
   "cell_type": "code",
   "execution_count": 6,
   "metadata": {},
   "outputs": [
    {
     "name": "stdout",
     "output_type": "stream",
     "text": [
      " 1    418\n",
      "-1    335\n",
      " 0    205\n",
      "Name: TL, dtype: int64 \n",
      "\n",
      " 1    378\n",
      "-1    330\n",
      " 0    250\n",
      "Name: TM, dtype: int64 \n",
      "\n",
      " 1    418\n",
      "-1    335\n",
      " 0    205\n",
      "Name: TR, dtype: int64 \n",
      "\n",
      " 1    378\n",
      "-1    330\n",
      " 0    250\n",
      "Name: ML, dtype: int64 \n",
      "\n",
      " 1    458\n",
      "-1    340\n",
      " 0    160\n",
      "Name: MM, dtype: int64 \n",
      "\n",
      " 1    378\n",
      "-1    330\n",
      " 0    250\n",
      "Name: MR, dtype: int64 \n",
      "\n",
      " 1    418\n",
      "-1    335\n",
      " 0    205\n",
      "Name: BL, dtype: int64 \n",
      "\n",
      " 1    378\n",
      "-1    330\n",
      " 0    250\n",
      "Name: BM, dtype: int64 \n",
      "\n",
      " 1    418\n",
      "-1    335\n",
      " 0    205\n",
      "Name: BR, dtype: int64 \n",
      "\n",
      "1    626\n",
      "0    332\n",
      "Name: class, dtype: int64 \n",
      "\n"
     ]
    }
   ],
   "source": [
    "for col in df.columns:\n",
    "    print(df[col].value_counts(), \"\\n\")"
   ]
  },
  {
   "cell_type": "code",
   "execution_count": 7,
   "metadata": {},
   "outputs": [],
   "source": [
    "x = df.drop(\"class\", axis=1).values\n",
    "y = df[\"class\"].values"
   ]
  },
  {
   "cell_type": "markdown",
   "metadata": {},
   "source": [
    "## Step 2: Build Neural Network\n",
    "\n",
    "To build the neural network, you can refer to your own codes you wrote while following the [Deep Learning with Python, TensorFlow, and Keras tutorial](https://www.youtube.com/watch?v=wQ8BIBpya2k) in the lesson. It's pretty similar to what you will be doing in this lab.\n",
    "\n",
    "1. Split the training and test data.\n",
    "1. Create a `Sequential` model.\n",
    "1. Add several layers to your model. Make sure you use ReLU as the activation function for the middle layers. Use Softmax for the output layer because each output has a single label and all the label probabilities add up to 1.\n",
    "1. Compile the model using `adam` as the optimizer and `sparse_categorical_crossentropy` as the loss function. For metrics, use `accuracy` for now.\n",
    "1. Fit the training data.\n",
    "1. Evaluate your neural network model with the test data.\n",
    "1. Save your model as `tic-tac-toe.model`."
   ]
  },
  {
   "cell_type": "code",
   "execution_count": 8,
   "metadata": {},
   "outputs": [],
   "source": [
    "# your code here\n",
    "from sklearn.model_selection import train_test_split\n",
    "\n",
    "x_train, x_test, y_train, y_test = train_test_split(x, y, test_size=0.2, random_state=65)"
   ]
  },
  {
   "cell_type": "code",
   "execution_count": 32,
   "metadata": {},
   "outputs": [],
   "source": [
    "from keras.models import Sequential\n",
    "from keras.layers import Dense\n",
    "from keras.utils import to_categorical\n",
    "\n",
    "model = Sequential([\n",
    "    Dense(64, activation='relu', input_shape=(9,)),\n",
    "    Dense(64, activation='relu'),\n",
    "    Dense(2, activation='softmax')])"
   ]
  },
  {
   "cell_type": "code",
   "execution_count": 33,
   "metadata": {},
   "outputs": [],
   "source": [
    "model.compile(\n",
    "    optimizer='adam',\n",
    "    loss='sparse_categorical_crossentropy',\n",
    "    metrics=['accuracy'])"
   ]
  },
  {
   "cell_type": "code",
   "execution_count": 34,
   "metadata": {},
   "outputs": [
    {
     "name": "stdout",
     "output_type": "stream",
     "text": [
      "Epoch 1/5\n",
      "766/766 [==============================] - 0s 155us/step - loss: 0.6058 - accuracy: 0.6828\n",
      "Epoch 2/5\n",
      "766/766 [==============================] - 0s 39us/step - loss: 0.5280 - accuracy: 0.7311\n",
      "Epoch 3/5\n",
      "766/766 [==============================] - 0s 41us/step - loss: 0.4799 - accuracy: 0.7650\n",
      "Epoch 4/5\n",
      "766/766 [==============================] - 0s 40us/step - loss: 0.4328 - accuracy: 0.7963\n",
      "Epoch 5/5\n",
      "766/766 [==============================] - 0s 40us/step - loss: 0.3888 - accuracy: 0.8381\n"
     ]
    }
   ],
   "source": [
    "history = model.fit(x_train, y_train, epochs=5, batch_size=32)"
   ]
  },
  {
   "cell_type": "code",
   "execution_count": 35,
   "metadata": {},
   "outputs": [
    {
     "name": "stdout",
     "output_type": "stream",
     "text": [
      "192/192 [==============================] - 0s 124us/step\n"
     ]
    },
    {
     "data": {
      "text/plain": [
       "[0.3516872723897298, 0.890625]"
      ]
     },
     "execution_count": 35,
     "metadata": {},
     "output_type": "execute_result"
    }
   ],
   "source": [
    "model.evaluate(x_test, y_test)"
   ]
  },
  {
   "cell_type": "code",
   "execution_count": 22,
   "metadata": {},
   "outputs": [],
   "source": [
    "model.save_weights('tic-tac-toe.model')"
   ]
  },
  {
   "cell_type": "markdown",
   "metadata": {},
   "source": [
    "## Step 3: Make Predictions\n",
    "\n",
    "Now load your saved model and use it to make predictions on a few random rows in the test dataset. Check if the predictions are correct."
   ]
  },
  {
   "cell_type": "code",
   "execution_count": 31,
   "metadata": {},
   "outputs": [
    {
     "name": "stdout",
     "output_type": "stream",
     "text": [
      "92.31 % hits\n"
     ]
    }
   ],
   "source": [
    "# your code here\n",
    "model.load_weights('tic-tac-toe.model')\n",
    "\n",
    "_, test_rows, _, test_labels = train_test_split(x_test, y_test, test_size=0.2, random_state=65)\n",
    "y_pred = model.predict(test_rows)\n",
    "\n",
    "print(round((np.argmax(y_pred, axis=1)==test_labels).sum() * 100 / test_labels.shape[0], 2), \"% hits\")"
   ]
  },
  {
   "cell_type": "markdown",
   "metadata": {},
   "source": [
    "## Step 4: Improve Your Model\n",
    "\n",
    "Did your model achieve low loss (<0.1) and high accuracy (>0.95)? If not, try to improve your model.\n",
    "\n",
    "But how? There are so many things you can play with in Tensorflow and in the next challenge you'll learn about these things. But in this challenge, let's just do a few things to see if they will help.\n",
    "\n",
    "* Add more layers to your model. If the data are complex you need more layers. But don't use more layers than you need. If adding more layers does not improve the model performance you don't need additional layers.\n",
    "* Adjust the learning rate when you compile the model. This means you will create a custom `tf.keras.optimizers.Adam` instance where you specify the learning rate you want. Then pass the instance to `model.compile` as the optimizer.\n",
    "    * `tf.keras.optimizers.Adam` [reference](https://www.tensorflow.org/api_docs/python/tf/keras/optimizers/Adam).\n",
    "    * Don't worry if you don't understand what the learning rate does. You'll learn about it in the next challenge.\n",
    "* Adjust the number of epochs when you fit the training data to the model. Your model performance continues to improve as you train more epochs. But eventually it will reach the ceiling and the performance will stay the same."
   ]
  },
  {
   "cell_type": "code",
   "execution_count": 39,
   "metadata": {},
   "outputs": [
    {
     "name": "stdout",
     "output_type": "stream",
     "text": [
      "192/192 [==============================] - 0s 121us/step\n",
      "2 layers; 0.0001 learning rate; 6 epochs\n",
      " [0.546925832827886, 0.8072916865348816] \n",
      "\n",
      "\n",
      "192/192 [==============================] - 0s 127us/step\n",
      "2 layers; 0.0001 learning rate; 8 epochs\n",
      " [0.5303535660107931, 0.7708333134651184] \n",
      "\n",
      "\n",
      "192/192 [==============================] - 0s 120us/step\n",
      "2 layers; 0.0001 learning rate; 10 epochs\n",
      " [0.5326277911663055, 0.7604166865348816] \n",
      "\n",
      "\n",
      "192/192 [==============================] - 0s 124us/step\n",
      "2 layers; 0.001 learning rate; 6 epochs\n",
      " [0.5619709690411886, 0.765625] \n",
      "\n",
      "\n",
      "192/192 [==============================] - 0s 132us/step\n",
      "2 layers; 0.001 learning rate; 8 epochs\n",
      " [0.5208689471085867, 0.8072916865348816] \n",
      "\n",
      "\n",
      "192/192 [==============================] - 0s 125us/step\n",
      "2 layers; 0.001 learning rate; 10 epochs\n",
      " [0.5305903355280558, 0.7916666865348816] \n",
      "\n",
      "\n",
      "192/192 [==============================] - 0s 121us/step\n",
      "2 layers; 0.01 learning rate; 6 epochs\n",
      " [0.5437107036511103, 0.7447916865348816] \n",
      "\n",
      "\n",
      "192/192 [==============================] - 0s 138us/step\n",
      "2 layers; 0.01 learning rate; 8 epochs\n",
      " [0.5735784570376078, 0.7760416865348816] \n",
      "\n",
      "\n",
      "192/192 [==============================] - 0s 134us/step\n",
      "2 layers; 0.01 learning rate; 10 epochs\n",
      " [0.5243080208698908, 0.75] \n",
      "\n",
      "\n",
      "192/192 [==============================] - 0s 133us/step\n",
      "3 layers; 0.0001 learning rate; 6 epochs\n",
      " [0.5681522786617279, 0.75] \n",
      "\n",
      "\n",
      "192/192 [==============================] - 0s 133us/step\n",
      "3 layers; 0.0001 learning rate; 8 epochs\n",
      " [0.5397895375887553, 0.7708333134651184] \n",
      "\n",
      "\n",
      "192/192 [==============================] - 0s 136us/step\n",
      "3 layers; 0.0001 learning rate; 10 epochs\n",
      " [0.5399876336256663, 0.765625] \n",
      "\n",
      "\n",
      "192/192 [==============================] - 0s 139us/step\n",
      "3 layers; 0.001 learning rate; 6 epochs\n",
      " [0.567285805940628, 0.7552083134651184] \n",
      "\n",
      "\n",
      "192/192 [==============================] - 0s 138us/step\n",
      "3 layers; 0.001 learning rate; 8 epochs\n",
      " [0.5534934600194296, 0.78125] \n",
      "\n",
      "\n",
      "192/192 [==============================] - 0s 126us/step\n",
      "3 layers; 0.001 learning rate; 10 epochs\n",
      " [0.5365415612856547, 0.7708333134651184] \n",
      "\n",
      "\n",
      "192/192 [==============================] - 0s 129us/step\n",
      "3 layers; 0.01 learning rate; 6 epochs\n",
      " [0.5776882966359457, 0.71875] \n",
      "\n",
      "\n",
      "192/192 [==============================] - 0s 128us/step\n",
      "3 layers; 0.01 learning rate; 8 epochs\n",
      " [0.5837974846363068, 0.7395833134651184] \n",
      "\n",
      "\n",
      "192/192 [==============================] - 0s 136us/step\n",
      "3 layers; 0.01 learning rate; 10 epochs\n",
      " [0.5286709566911062, 0.796875] \n",
      "\n",
      "\n",
      "192/192 [==============================] - 0s 161us/step\n",
      "4 layers; 0.0001 learning rate; 6 epochs\n",
      " [0.5563706954320272, 0.78125] \n",
      "\n",
      "\n",
      "192/192 [==============================] - 0s 167us/step\n",
      "4 layers; 0.0001 learning rate; 8 epochs\n",
      " [0.5333084712425867, 0.7916666865348816] \n",
      "\n",
      "\n",
      "192/192 [==============================] - 0s 167us/step\n",
      "4 layers; 0.0001 learning rate; 10 epochs\n",
      " [0.5437584966421127, 0.78125] \n",
      "\n",
      "\n",
      "192/192 [==============================] - 0s 140us/step\n",
      "4 layers; 0.001 learning rate; 6 epochs\n",
      " [0.5780644218126932, 0.7395833134651184] \n",
      "\n",
      "\n",
      "192/192 [==============================] - 0s 139us/step\n",
      "4 layers; 0.001 learning rate; 8 epochs\n",
      " [0.5465648025274277, 0.7552083134651184] \n",
      "\n",
      "\n",
      "192/192 [==============================] - 0s 154us/step\n",
      "4 layers; 0.001 learning rate; 10 epochs\n",
      " [0.565286268790563, 0.7239583134651184] \n",
      "\n",
      "\n",
      "192/192 [==============================] - 0s 154us/step\n",
      "4 layers; 0.01 learning rate; 6 epochs\n",
      " [0.591204971075058, 0.7239583134651184] \n",
      "\n",
      "\n",
      "192/192 [==============================] - 0s 153us/step\n",
      "4 layers; 0.01 learning rate; 8 epochs\n",
      " [0.5754410723845164, 0.7239583134651184] \n",
      "\n",
      "\n",
      "192/192 [==============================] - 0s 149us/step\n",
      "4 layers; 0.01 learning rate; 10 epochs\n",
      " [0.5616452644268671, 0.734375] \n",
      "\n",
      "\n",
      "192/192 [==============================] - 0s 161us/step\n",
      "5 layers; 0.0001 learning rate; 6 epochs\n",
      " [0.6069746613502502, 0.7239583134651184] \n",
      "\n",
      "\n",
      "192/192 [==============================] - 0s 159us/step\n",
      "5 layers; 0.0001 learning rate; 8 epochs\n",
      " [0.5467722217241923, 0.7708333134651184] \n",
      "\n",
      "\n",
      "192/192 [==============================] - 0s 160us/step\n",
      "5 layers; 0.0001 learning rate; 10 epochs\n",
      " [0.5593496163686117, 0.7291666865348816] \n",
      "\n",
      "\n",
      "192/192 [==============================] - 0s 152us/step\n",
      "5 layers; 0.001 learning rate; 6 epochs\n",
      " [0.5866243342558543, 0.7291666865348816] \n",
      "\n",
      "\n",
      "192/192 [==============================] - 0s 166us/step\n",
      "5 layers; 0.001 learning rate; 8 epochs\n",
      " [0.5653229355812073, 0.7239583134651184] \n",
      "\n",
      "\n",
      "192/192 [==============================] - 0s 164us/step\n",
      "5 layers; 0.001 learning rate; 10 epochs\n",
      " [0.5834275782108307, 0.7239583134651184] \n",
      "\n",
      "\n",
      "192/192 [==============================] - 0s 173us/step\n",
      "5 layers; 0.01 learning rate; 6 epochs\n",
      " [0.5376741290092468, 0.7291666865348816] \n",
      "\n",
      "\n",
      "192/192 [==============================] - 0s 159us/step\n",
      "5 layers; 0.01 learning rate; 8 epochs\n",
      " [0.5605150461196899, 0.7395833134651184] \n",
      "\n",
      "\n",
      "192/192 [==============================] - 0s 149us/step\n",
      "5 layers; 0.01 learning rate; 10 epochs\n",
      " [0.5912030339241028, 0.7239583134651184] \n",
      "\n",
      "\n"
     ]
    }
   ],
   "source": [
    "# your code here\n",
    "from keras import optimizers as op\n",
    "\n",
    "n_layers = [2,3,4,5]\n",
    "learning_rate = [0.0001, 0.001, 0.01]\n",
    "n_epochs = [6,8,10]\n",
    "\n",
    "for nl in n_layers:\n",
    "    for lr in learning_rate:\n",
    "        for ne in n_epochs:\n",
    "            \n",
    "            # initialize optimizer\n",
    "            adam_opt = op.SGD(lr=0.01)\n",
    "            \n",
    "            # define layers\n",
    "            layers = [Dense(64, activation='relu') for i in range(nl - 1)]\n",
    "            layers.append(Dense(2, activation='softmax'))\n",
    "            \n",
    "            # create model with layers\n",
    "            model = Sequential(layers)\n",
    "            \n",
    "            # compile model with optimizer\n",
    "            model.compile(\n",
    "                optimizer=adam_opt,\n",
    "                loss='sparse_categorical_crossentropy',\n",
    "                metrics=['accuracy'])\n",
    "            \n",
    "            # fit model with epochs\n",
    "            history = model.fit(x_train, y_train, epochs=ne, batch_size=32, verbose=0)\n",
    "            \n",
    "            # print results\n",
    "            print(nl, \"layers;\", lr, \"learning rate;\", ne, \"epochs\\n\", model.evaluate(x_test, y_test), \"\\n\\n\")"
   ]
  },
  {
   "cell_type": "markdown",
   "metadata": {},
   "source": [
    "**Which approach(es) did you find helpful to improve your model performance?**"
   ]
  },
  {
   "cell_type": "code",
   "execution_count": 40,
   "metadata": {},
   "outputs": [],
   "source": [
    "# your answer here\n",
    "\n",
    "# There is no correlation between adding more epochs and improvements to performance.\n",
    "# I assume this is similar to overfitting the data.\n",
    "\n",
    "# The same thing happened with layers. There was an improvement in accuracy but only up to a point.\n",
    "# After that, the model accuracy got worse.\n",
    "\n",
    "# Higher learning rates led to more drastic adjustements in the model. The variation in accuracy\n",
    "# between models was proportional to the learning rate."
   ]
  }
 ],
 "metadata": {
  "kernelspec": {
   "display_name": "Python 3",
   "language": "python",
   "name": "python3"
  },
  "language_info": {
   "codemirror_mode": {
    "name": "ipython",
    "version": 3
   },
   "file_extension": ".py",
   "mimetype": "text/x-python",
   "name": "python",
   "nbconvert_exporter": "python",
   "pygments_lexer": "ipython3",
   "version": "3.7.4"
  }
 },
 "nbformat": 4,
 "nbformat_minor": 2
}
